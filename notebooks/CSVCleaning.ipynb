{
 "cells": [
  {
   "cell_type": "code",
   "execution_count": 2,
   "metadata": {},
   "outputs": [],
   "source": [
    "import pandas as pd\n",
    "import matplotlib.pyplot as plt\n",
    "import numpy as np\n",
    "\n",
    "pd.options.display.max_rows = 25 \n",
    "pd.options.display.max_columns = None"
   ]
  },
  {
   "cell_type": "code",
   "execution_count": 4,
   "metadata": {},
   "outputs": [],
   "source": [
    "col_ignore = ['scheme_name', 'wpt_name', 'source_class', 'quality_group', 'quantity_group', 'recorded_by', \n",
    "             'extraction_type_group', 'extraction_type_class','management_group', 'payment_type', 'region_code',\n",
    "              'district_code', 'subvillage', 'scheme_management', 'source_type', 'waterpoint_type_group', \n",
    "              'num_private', 'funder', 'longitude', 'latitude']\n",
    "water_values = pd.read_csv('../data/raw/WaterValuesOriginal.csv')\n",
    "# water_values = water_values[[i for i in water_values.columns if i not in col_ignore]]\n",
    "water_labels = pd.read_csv('../data/raw/WaterLabelsOriginal.csv')"
   ]
  },
  {
   "cell_type": "code",
   "execution_count": 21,
   "metadata": {},
   "outputs": [
    {
     "data": {
      "text/plain": [
       "<matplotlib.axes._subplots.AxesSubplot at 0x11845dad0>"
      ]
     },
     "execution_count": 21,
     "metadata": {},
     "output_type": "execute_result"
    },
    {
     "data": {
      "image/png": "[encoded data removed]",
      "text/plain": [
       "<Figure size 432x288 with 1 Axes>"
      ]
     },
     "metadata": {
      "needs_background": "light"
     },
     "output_type": "display_data"
    }
   ],
   "source": [
    "water_values['date_recorded'] = pd.to_datetime(water_values.date_recorded)\n",
    "water_values['year_recorded'] = pd.DatetimeIndex(water_values.date_recorded).year\n",
    "water_values.loc[water_values.year_recorded < water_values.construction_year]\n",
    "water_values.loc[water_values.year_recorded == 2002].year_recorded.hist()"
   ]
  },
  {
   "cell_type": "code",
   "execution_count": 3,
   "metadata": {},
   "outputs": [],
   "source": [
    "water_labels['target'] = water_labels.status_group.values\n",
    "water_labels.drop('status_group', axis = 1, inplace = True)"
   ]
  },
  {
   "cell_type": "code",
   "execution_count": 4,
   "metadata": {},
   "outputs": [],
   "source": [
    "#fixing dates \n",
    "median_con = water_values[water_values.construction_year != 0].construction_year.median()\n",
    "water_values.construction_year.replace(0, median_con, inplace = True)\n",
    "cons_year = water_values.construction_year.values \n",
    "rec_date = water_values.date_recorded.values \n",
    "def get_time_since_built(cons, rec): \n",
    "    time_array = []\n",
    "    for c, r in zip(cons, rec): \n",
    "        r = int(r.split('-')[0])\n",
    "        c = int(c)\n",
    "        diff = r -c\n",
    "        time_array.append(diff)\n",
    "    return time_array\n",
    "\n",
    "t_array = get_time_since_built(cons_year, rec_date)\n",
    "water_values['time_passed'] = t_array\n",
    "water_values.drop(['construction_year', 'date_recorded'], axis = 1, inplace = True)"
   ]
  },
  {
   "cell_type": "code",
   "execution_count": 11,
   "metadata": {},
   "outputs": [
    {
     "data": {
      "text/html": [
       "<div>\n",
       "<style scoped>\n",
       "    .dataframe tbody tr th:only-of-type {\n",
       "        vertical-align: middle;\n",
       "    }\n",
       "\n",
       "    .dataframe tbody tr th {\n",
       "        vertical-align: top;\n",
       "    }\n",
       "\n",
       "    .dataframe thead th {\n",
       "        text-align: right;\n",
       "    }\n",
       "</style>\n",
       "<table border=\"1\" class=\"dataframe\">\n",
       "  <thead>\n",
       "    <tr style=\"text-align: right;\">\n",
       "      <th></th>\n",
       "      <th>id</th>\n",
       "      <th>amount_tsh</th>\n",
       "      <th>gps_height</th>\n",
       "      <th>installer</th>\n",
       "      <th>basin</th>\n",
       "      <th>region</th>\n",
       "      <th>lga</th>\n",
       "      <th>ward</th>\n",
       "      <th>population</th>\n",
       "      <th>public_meeting</th>\n",
       "      <th>permit</th>\n",
       "      <th>extraction_type</th>\n",
       "      <th>management</th>\n",
       "      <th>payment</th>\n",
       "      <th>water_quality</th>\n",
       "      <th>quantity</th>\n",
       "      <th>source</th>\n",
       "      <th>waterpoint_type</th>\n",
       "      <th>time_passed</th>\n",
       "    </tr>\n",
       "  </thead>\n",
       "  <tbody>\n",
       "    <tr>\n",
       "      <th>0</th>\n",
       "      <td>69572</td>\n",
       "      <td>6000.0</td>\n",
       "      <td>1390</td>\n",
       "      <td>Roman</td>\n",
       "      <td>Lake Nyasa</td>\n",
       "      <td>Iringa</td>\n",
       "      <td>Ludewa</td>\n",
       "      <td>Mundindi</td>\n",
       "      <td>109</td>\n",
       "      <td>True</td>\n",
       "      <td>False</td>\n",
       "      <td>gravity</td>\n",
       "      <td>vwc</td>\n",
       "      <td>pay annually</td>\n",
       "      <td>soft</td>\n",
       "      <td>enough</td>\n",
       "      <td>spring</td>\n",
       "      <td>communal standpipe</td>\n",
       "      <td>12</td>\n",
       "    </tr>\n",
       "    <tr>\n",
       "      <th>1</th>\n",
       "      <td>8776</td>\n",
       "      <td>0.0</td>\n",
       "      <td>1399</td>\n",
       "      <td>GRUMETI</td>\n",
       "      <td>Lake Victoria</td>\n",
       "      <td>Mara</td>\n",
       "      <td>Serengeti</td>\n",
       "      <td>Natta</td>\n",
       "      <td>280</td>\n",
       "      <td>NaN</td>\n",
       "      <td>True</td>\n",
       "      <td>gravity</td>\n",
       "      <td>wug</td>\n",
       "      <td>never pay</td>\n",
       "      <td>soft</td>\n",
       "      <td>insufficient</td>\n",
       "      <td>rainwater harvesting</td>\n",
       "      <td>communal standpipe</td>\n",
       "      <td>3</td>\n",
       "    </tr>\n",
       "  </tbody>\n",
       "</table>\n",
       "</div>"
      ],
      "text/plain": [
       "      id  amount_tsh  gps_height installer          basin  region        lga  \\\n",
       "0  69572      6000.0        1390     Roman     Lake Nyasa  Iringa     Ludewa   \n",
       "1   8776         0.0        1399   GRUMETI  Lake Victoria    Mara  Serengeti   \n",
       "\n",
       "       ward  population public_meeting permit extraction_type management  \\\n",
       "0  Mundindi         109           True  False         gravity        vwc   \n",
       "1     Natta         280            NaN   True         gravity        wug   \n",
       "\n",
       "        payment water_quality      quantity                source  \\\n",
       "0  pay annually          soft        enough                spring   \n",
       "1     never pay          soft  insufficient  rainwater harvesting   \n",
       "\n",
       "      waterpoint_type  time_passed  \n",
       "0  communal standpipe           12  \n",
       "1  communal standpipe            3  "
      ]
     },
     "execution_count": 11,
     "metadata": {},
     "output_type": "execute_result"
    }
   ],
   "source": [
    "water_values.head(2)"
   ]
  },
  {
   "cell_type": "code",
   "execution_count": 15,
   "metadata": {},
   "outputs": [
    {
     "data": {
      "text/html": [
       "<div>\n",
       "<style scoped>\n",
       "    .dataframe tbody tr th:only-of-type {\n",
       "        vertical-align: middle;\n",
       "    }\n",
       "\n",
       "    .dataframe tbody tr th {\n",
       "        vertical-align: top;\n",
       "    }\n",
       "\n",
       "    .dataframe thead th {\n",
       "        text-align: right;\n",
       "    }\n",
       "</style>\n",
       "<table border=\"1\" class=\"dataframe\">\n",
       "  <thead>\n",
       "    <tr style=\"text-align: right;\">\n",
       "      <th></th>\n",
       "      <th>id</th>\n",
       "      <th>amount_tsh</th>\n",
       "      <th>gps_height</th>\n",
       "      <th>installer</th>\n",
       "      <th>basin</th>\n",
       "      <th>region</th>\n",
       "      <th>lga</th>\n",
       "      <th>ward</th>\n",
       "      <th>population</th>\n",
       "      <th>public_meeting</th>\n",
       "      <th>permit</th>\n",
       "      <th>extraction_type</th>\n",
       "      <th>management</th>\n",
       "      <th>payment</th>\n",
       "      <th>water_quality</th>\n",
       "      <th>quantity</th>\n",
       "      <th>source</th>\n",
       "      <th>waterpoint_type</th>\n",
       "      <th>time_passed</th>\n",
       "    </tr>\n",
       "  </thead>\n",
       "  <tbody>\n",
       "    <tr>\n",
       "      <th>0</th>\n",
       "      <td>69572</td>\n",
       "      <td>6000.0</td>\n",
       "      <td>1390</td>\n",
       "      <td>Roman</td>\n",
       "      <td>Lake Nyasa</td>\n",
       "      <td>Iringa</td>\n",
       "      <td>Ludewa</td>\n",
       "      <td>Mundindi</td>\n",
       "      <td>109</td>\n",
       "      <td>1</td>\n",
       "      <td>0</td>\n",
       "      <td>gravity</td>\n",
       "      <td>vwc</td>\n",
       "      <td>pay annually</td>\n",
       "      <td>soft</td>\n",
       "      <td>enough</td>\n",
       "      <td>spring</td>\n",
       "      <td>communal standpipe</td>\n",
       "      <td>12</td>\n",
       "    </tr>\n",
       "    <tr>\n",
       "      <th>1</th>\n",
       "      <td>8776</td>\n",
       "      <td>0.0</td>\n",
       "      <td>1399</td>\n",
       "      <td>GRUMETI</td>\n",
       "      <td>Lake Victoria</td>\n",
       "      <td>Mara</td>\n",
       "      <td>Serengeti</td>\n",
       "      <td>Natta</td>\n",
       "      <td>280</td>\n",
       "      <td>0</td>\n",
       "      <td>1</td>\n",
       "      <td>gravity</td>\n",
       "      <td>wug</td>\n",
       "      <td>never pay</td>\n",
       "      <td>soft</td>\n",
       "      <td>insufficient</td>\n",
       "      <td>rainwater harvesting</td>\n",
       "      <td>communal standpipe</td>\n",
       "      <td>3</td>\n",
       "    </tr>\n",
       "  </tbody>\n",
       "</table>\n",
       "</div>"
      ],
      "text/plain": [
       "      id  amount_tsh  gps_height installer          basin  region        lga  \\\n",
       "0  69572      6000.0        1390     Roman     Lake Nyasa  Iringa     Ludewa   \n",
       "1   8776         0.0        1399   GRUMETI  Lake Victoria    Mara  Serengeti   \n",
       "\n",
       "       ward  population  public_meeting  permit extraction_type management  \\\n",
       "0  Mundindi         109               1       0         gravity        vwc   \n",
       "1     Natta         280               0       1         gravity        wug   \n",
       "\n",
       "        payment water_quality      quantity                source  \\\n",
       "0  pay annually          soft        enough                spring   \n",
       "1     never pay          soft  insufficient  rainwater harvesting   \n",
       "\n",
       "      waterpoint_type  time_passed  \n",
       "0  communal standpipe           12  \n",
       "1  communal standpipe            3  "
      ]
     },
     "execution_count": 15,
     "metadata": {},
     "output_type": "execute_result"
    }
   ],
   "source": [
    "#changes binary true-false to 0-1\n",
    "water_values.public_meeting.fillna(False, inplace = True)\n",
    "water_values.public_meeting = water_values.public_meeting.astype(int)\n",
    "water_values.permit.fillna(False, inplace = True)\n",
    "water_values.permit = water_values.permit.astype(int)\n",
    "water_values.head(2)"
   ]
  },
  {
   "cell_type": "code",
   "execution_count": null,
   "metadata": {},
   "outputs": [],
   "source": []
  },
  {
   "cell_type": "code",
   "execution_count": 16,
   "metadata": {},
   "outputs": [
    {
     "name": "stderr",
     "output_type": "stream",
     "text": [
      "100%|██████████| 59400/59400 [02:59<00:00, 330.20it/s]\n"
     ]
    }
   ],
   "source": [
    "#fixing population to replace value with mdeian population within its basin \n",
    "from tqdm import tqdm\n",
    "def fix_population_basin(df): \n",
    "    new_df = df\n",
    "    for idx in tqdm(range(len(new_df))): \n",
    "        pop = new_df.iloc[idx].population \n",
    "        if pop != 0: \n",
    "            continue \n",
    "        basin_value = new_df.iloc[idx].basin\n",
    "        basin_median_pop = new_df[(new_df.basin == basin_value) & (new_df.population > 0)].population.median() \n",
    "        new_df.loc[idx, 'population'] = basin_median_pop\n",
    "        \n",
    "    return new_df     \n",
    "\n",
    "water_values = fix_population_basin(water_values)\n"
   ]
  },
  {
   "cell_type": "code",
   "execution_count": 17,
   "metadata": {},
   "outputs": [],
   "source": [
    "#joining target with water_values\n",
    "new_df = pd.merge(water_values, water_labels, on = 'id')"
   ]
  },
  {
   "cell_type": "code",
   "execution_count": null,
   "metadata": {},
   "outputs": [],
   "source": []
  },
  {
   "cell_type": "code",
   "execution_count": 18,
   "metadata": {},
   "outputs": [],
   "source": [
    "new_df.to_csv('data/WaterUpdated.csv', index = False)"
   ]
  },
  {
   "cell_type": "code",
   "execution_count": null,
   "metadata": {},
   "outputs": [],
   "source": []
  }
 ],
 "metadata": {
  "kernelspec": {
   "display_name": "Python 3",
   "language": "python",
   "name": "python3"
  },
  "language_info": {
   "codemirror_mode": {
    "name": "ipython",
    "version": 3
   },
   "file_extension": ".py",
   "mimetype": "text/x-python",
   "name": "python",
   "nbconvert_exporter": "python",
   "pygments_lexer": "ipython3",
   "version": "3.7.6"
  }
 },
 "nbformat": 4,
 "nbformat_minor": 4
}
