{
 "cells": [
  {
   "cell_type": "code",
   "execution_count": 1,
   "metadata": {},
   "outputs": [],
   "source": [
    "import pandas as pd\n",
    "import numpy as np\n",
    "import matplotlib.pyplot as plt\n",
    "%matplotlib inline"
   ]
  },
  {
   "cell_type": "code",
   "execution_count": 3,
   "metadata": {},
   "outputs": [
    {
     "data": {
      "text/html": [
       "<div>\n",
       "<style scoped>\n",
       "    .dataframe tbody tr th:only-of-type {\n",
       "        vertical-align: middle;\n",
       "    }\n",
       "\n",
       "    .dataframe tbody tr th {\n",
       "        vertical-align: top;\n",
       "    }\n",
       "\n",
       "    .dataframe thead th {\n",
       "        text-align: right;\n",
       "    }\n",
       "</style>\n",
       "<table border=\"1\" class=\"dataframe\">\n",
       "  <thead>\n",
       "    <tr style=\"text-align: right;\">\n",
       "      <th></th>\n",
       "      <th>id</th>\n",
       "      <th>amount_tsh</th>\n",
       "      <th>gps_height</th>\n",
       "      <th>installer</th>\n",
       "      <th>basin</th>\n",
       "      <th>region</th>\n",
       "      <th>lga</th>\n",
       "      <th>ward</th>\n",
       "      <th>population</th>\n",
       "      <th>public_meeting</th>\n",
       "      <th>permit</th>\n",
       "      <th>extraction_type</th>\n",
       "      <th>management</th>\n",
       "      <th>payment</th>\n",
       "      <th>water_quality</th>\n",
       "      <th>quantity</th>\n",
       "      <th>source</th>\n",
       "      <th>waterpoint_type</th>\n",
       "      <th>time_passed</th>\n",
       "      <th>target</th>\n",
       "    </tr>\n",
       "  </thead>\n",
       "  <tbody>\n",
       "    <tr>\n",
       "      <th>0</th>\n",
       "      <td>69572</td>\n",
       "      <td>6000.0</td>\n",
       "      <td>1390</td>\n",
       "      <td>Roman</td>\n",
       "      <td>Lake Nyasa</td>\n",
       "      <td>Iringa</td>\n",
       "      <td>Ludewa</td>\n",
       "      <td>Mundindi</td>\n",
       "      <td>109.0</td>\n",
       "      <td>1</td>\n",
       "      <td>0</td>\n",
       "      <td>gravity</td>\n",
       "      <td>vwc</td>\n",
       "      <td>pay annually</td>\n",
       "      <td>soft</td>\n",
       "      <td>enough</td>\n",
       "      <td>spring</td>\n",
       "      <td>communal standpipe</td>\n",
       "      <td>12</td>\n",
       "      <td>functional</td>\n",
       "    </tr>\n",
       "    <tr>\n",
       "      <th>1</th>\n",
       "      <td>8776</td>\n",
       "      <td>0.0</td>\n",
       "      <td>1399</td>\n",
       "      <td>GRUMETI</td>\n",
       "      <td>Lake Victoria</td>\n",
       "      <td>Mara</td>\n",
       "      <td>Serengeti</td>\n",
       "      <td>Natta</td>\n",
       "      <td>280.0</td>\n",
       "      <td>0</td>\n",
       "      <td>1</td>\n",
       "      <td>gravity</td>\n",
       "      <td>wug</td>\n",
       "      <td>never pay</td>\n",
       "      <td>soft</td>\n",
       "      <td>insufficient</td>\n",
       "      <td>rainwater harvesting</td>\n",
       "      <td>communal standpipe</td>\n",
       "      <td>3</td>\n",
       "      <td>functional</td>\n",
       "    </tr>\n",
       "    <tr>\n",
       "      <th>2</th>\n",
       "      <td>34310</td>\n",
       "      <td>25.0</td>\n",
       "      <td>686</td>\n",
       "      <td>World vision</td>\n",
       "      <td>Pangani</td>\n",
       "      <td>Manyara</td>\n",
       "      <td>Simanjiro</td>\n",
       "      <td>Ngorika</td>\n",
       "      <td>250.0</td>\n",
       "      <td>1</td>\n",
       "      <td>1</td>\n",
       "      <td>gravity</td>\n",
       "      <td>vwc</td>\n",
       "      <td>pay per bucket</td>\n",
       "      <td>soft</td>\n",
       "      <td>enough</td>\n",
       "      <td>dam</td>\n",
       "      <td>communal standpipe multiple</td>\n",
       "      <td>4</td>\n",
       "      <td>functional</td>\n",
       "    </tr>\n",
       "    <tr>\n",
       "      <th>3</th>\n",
       "      <td>67743</td>\n",
       "      <td>0.0</td>\n",
       "      <td>263</td>\n",
       "      <td>UNICEF</td>\n",
       "      <td>Ruvuma / Southern Coast</td>\n",
       "      <td>Mtwara</td>\n",
       "      <td>Nanyumbu</td>\n",
       "      <td>Nanyumbu</td>\n",
       "      <td>58.0</td>\n",
       "      <td>1</td>\n",
       "      <td>1</td>\n",
       "      <td>submersible</td>\n",
       "      <td>vwc</td>\n",
       "      <td>never pay</td>\n",
       "      <td>soft</td>\n",
       "      <td>dry</td>\n",
       "      <td>machine dbh</td>\n",
       "      <td>communal standpipe multiple</td>\n",
       "      <td>27</td>\n",
       "      <td>non functional</td>\n",
       "    </tr>\n",
       "    <tr>\n",
       "      <th>4</th>\n",
       "      <td>19728</td>\n",
       "      <td>0.0</td>\n",
       "      <td>0</td>\n",
       "      <td>Artisan</td>\n",
       "      <td>Lake Victoria</td>\n",
       "      <td>Kagera</td>\n",
       "      <td>Karagwe</td>\n",
       "      <td>Nyakasimbi</td>\n",
       "      <td>320.0</td>\n",
       "      <td>1</td>\n",
       "      <td>1</td>\n",
       "      <td>gravity</td>\n",
       "      <td>other</td>\n",
       "      <td>never pay</td>\n",
       "      <td>soft</td>\n",
       "      <td>seasonal</td>\n",
       "      <td>rainwater harvesting</td>\n",
       "      <td>communal standpipe</td>\n",
       "      <td>11</td>\n",
       "      <td>functional</td>\n",
       "    </tr>\n",
       "  </tbody>\n",
       "</table>\n",
       "</div>"
      ],
      "text/plain": [
       "      id  amount_tsh  gps_height     installer                    basin  \\\n",
       "0  69572      6000.0        1390         Roman               Lake Nyasa   \n",
       "1   8776         0.0        1399       GRUMETI            Lake Victoria   \n",
       "2  34310        25.0         686  World vision                  Pangani   \n",
       "3  67743         0.0         263        UNICEF  Ruvuma / Southern Coast   \n",
       "4  19728         0.0           0       Artisan            Lake Victoria   \n",
       "\n",
       "    region        lga        ward  population  public_meeting  permit  \\\n",
       "0   Iringa     Ludewa    Mundindi       109.0               1       0   \n",
       "1     Mara  Serengeti       Natta       280.0               0       1   \n",
       "2  Manyara  Simanjiro     Ngorika       250.0               1       1   \n",
       "3   Mtwara   Nanyumbu    Nanyumbu        58.0               1       1   \n",
       "4   Kagera    Karagwe  Nyakasimbi       320.0               1       1   \n",
       "\n",
       "  extraction_type management         payment water_quality      quantity  \\\n",
       "0         gravity        vwc    pay annually          soft        enough   \n",
       "1         gravity        wug       never pay          soft  insufficient   \n",
       "2         gravity        vwc  pay per bucket          soft        enough   \n",
       "3     submersible        vwc       never pay          soft           dry   \n",
       "4         gravity      other       never pay          soft      seasonal   \n",
       "\n",
       "                 source              waterpoint_type  time_passed  \\\n",
       "0                spring           communal standpipe           12   \n",
       "1  rainwater harvesting           communal standpipe            3   \n",
       "2                   dam  communal standpipe multiple            4   \n",
       "3           machine dbh  communal standpipe multiple           27   \n",
       "4  rainwater harvesting           communal standpipe           11   \n",
       "\n",
       "           target  \n",
       "0      functional  \n",
       "1      functional  \n",
       "2      functional  \n",
       "3  non functional  \n",
       "4      functional  "
      ]
     },
     "execution_count": 3,
     "metadata": {},
     "output_type": "execute_result"
    }
   ],
   "source": [
    "\n",
    "df = pd.read_csv('../data/interim/WaterUpdated.csv')\n",
    "df.head()"
   ]
  },
  {
   "cell_type": "code",
   "execution_count": 4,
   "metadata": {},
   "outputs": [
    {
     "data": {
      "text/html": [
       "<div>\n",
       "<style scoped>\n",
       "    .dataframe tbody tr th:only-of-type {\n",
       "        vertical-align: middle;\n",
       "    }\n",
       "\n",
       "    .dataframe tbody tr th {\n",
       "        vertical-align: top;\n",
       "    }\n",
       "\n",
       "    .dataframe thead th {\n",
       "        text-align: right;\n",
       "    }\n",
       "</style>\n",
       "<table border=\"1\" class=\"dataframe\">\n",
       "  <thead>\n",
       "    <tr style=\"text-align: right;\">\n",
       "      <th></th>\n",
       "      <th>id</th>\n",
       "      <th>amount_tsh</th>\n",
       "      <th>gps_height</th>\n",
       "      <th>population</th>\n",
       "      <th>public_meeting</th>\n",
       "      <th>permit</th>\n",
       "      <th>time_passed</th>\n",
       "    </tr>\n",
       "  </thead>\n",
       "  <tbody>\n",
       "    <tr>\n",
       "      <th>count</th>\n",
       "      <td>59400.000000</td>\n",
       "      <td>59400.000000</td>\n",
       "      <td>59400.000000</td>\n",
       "      <td>59400.000000</td>\n",
       "      <td>59400.000000</td>\n",
       "      <td>59400.000000</td>\n",
       "      <td>59400.000000</td>\n",
       "    </tr>\n",
       "    <tr>\n",
       "      <th>mean</th>\n",
       "      <td>37115.131768</td>\n",
       "      <td>317.650385</td>\n",
       "      <td>668.297239</td>\n",
       "      <td>264.311431</td>\n",
       "      <td>0.858771</td>\n",
       "      <td>0.654074</td>\n",
       "      <td>13.996465</td>\n",
       "    </tr>\n",
       "    <tr>\n",
       "      <th>std</th>\n",
       "      <td>21453.128371</td>\n",
       "      <td>2997.574558</td>\n",
       "      <td>693.116350</td>\n",
       "      <td>456.723285</td>\n",
       "      <td>0.348261</td>\n",
       "      <td>0.475673</td>\n",
       "      <td>10.260706</td>\n",
       "    </tr>\n",
       "    <tr>\n",
       "      <th>min</th>\n",
       "      <td>0.000000</td>\n",
       "      <td>0.000000</td>\n",
       "      <td>-90.000000</td>\n",
       "      <td>1.000000</td>\n",
       "      <td>0.000000</td>\n",
       "      <td>0.000000</td>\n",
       "      <td>-7.000000</td>\n",
       "    </tr>\n",
       "    <tr>\n",
       "      <th>25%</th>\n",
       "      <td>18519.750000</td>\n",
       "      <td>0.000000</td>\n",
       "      <td>0.000000</td>\n",
       "      <td>63.000000</td>\n",
       "      <td>1.000000</td>\n",
       "      <td>0.000000</td>\n",
       "      <td>8.000000</td>\n",
       "    </tr>\n",
       "    <tr>\n",
       "      <th>50%</th>\n",
       "      <td>37061.500000</td>\n",
       "      <td>0.000000</td>\n",
       "      <td>369.000000</td>\n",
       "      <td>200.000000</td>\n",
       "      <td>1.000000</td>\n",
       "      <td>1.000000</td>\n",
       "      <td>11.000000</td>\n",
       "    </tr>\n",
       "    <tr>\n",
       "      <th>75%</th>\n",
       "      <td>55656.500000</td>\n",
       "      <td>20.000000</td>\n",
       "      <td>1319.250000</td>\n",
       "      <td>320.000000</td>\n",
       "      <td>1.000000</td>\n",
       "      <td>1.000000</td>\n",
       "      <td>16.000000</td>\n",
       "    </tr>\n",
       "    <tr>\n",
       "      <th>max</th>\n",
       "      <td>74247.000000</td>\n",
       "      <td>350000.000000</td>\n",
       "      <td>2770.000000</td>\n",
       "      <td>30500.000000</td>\n",
       "      <td>1.000000</td>\n",
       "      <td>1.000000</td>\n",
       "      <td>53.000000</td>\n",
       "    </tr>\n",
       "  </tbody>\n",
       "</table>\n",
       "</div>"
      ],
      "text/plain": [
       "                 id     amount_tsh    gps_height    population  \\\n",
       "count  59400.000000   59400.000000  59400.000000  59400.000000   \n",
       "mean   37115.131768     317.650385    668.297239    264.311431   \n",
       "std    21453.128371    2997.574558    693.116350    456.723285   \n",
       "min        0.000000       0.000000    -90.000000      1.000000   \n",
       "25%    18519.750000       0.000000      0.000000     63.000000   \n",
       "50%    37061.500000       0.000000    369.000000    200.000000   \n",
       "75%    55656.500000      20.000000   1319.250000    320.000000   \n",
       "max    74247.000000  350000.000000   2770.000000  30500.000000   \n",
       "\n",
       "       public_meeting        permit   time_passed  \n",
       "count    59400.000000  59400.000000  59400.000000  \n",
       "mean         0.858771      0.654074     13.996465  \n",
       "std          0.348261      0.475673     10.260706  \n",
       "min          0.000000      0.000000     -7.000000  \n",
       "25%          1.000000      0.000000      8.000000  \n",
       "50%          1.000000      1.000000     11.000000  \n",
       "75%          1.000000      1.000000     16.000000  \n",
       "max          1.000000      1.000000     53.000000  "
      ]
     },
     "execution_count": 4,
     "metadata": {},
     "output_type": "execute_result"
    }
   ],
   "source": [
    "df.describe()"
   ]
  },
  {
   "cell_type": "code",
   "execution_count": 82,
   "metadata": {},
   "outputs": [
    {
     "data": {
      "text/html": [
       "<div>\n",
       "<style scoped>\n",
       "    .dataframe tbody tr th:only-of-type {\n",
       "        vertical-align: middle;\n",
       "    }\n",
       "\n",
       "    .dataframe tbody tr th {\n",
       "        vertical-align: top;\n",
       "    }\n",
       "\n",
       "    .dataframe thead th {\n",
       "        text-align: right;\n",
       "    }\n",
       "</style>\n",
       "<table border=\"1\" class=\"dataframe\">\n",
       "  <thead>\n",
       "    <tr style=\"text-align: right;\">\n",
       "      <th></th>\n",
       "      <th>id</th>\n",
       "      <th>amount_tsh</th>\n",
       "      <th>gps_height</th>\n",
       "      <th>installer</th>\n",
       "      <th>basin</th>\n",
       "      <th>region</th>\n",
       "      <th>lga</th>\n",
       "      <th>ward</th>\n",
       "      <th>population</th>\n",
       "      <th>public_meeting</th>\n",
       "      <th>permit</th>\n",
       "      <th>extraction_type</th>\n",
       "      <th>management</th>\n",
       "      <th>payment</th>\n",
       "      <th>water_quality</th>\n",
       "      <th>quantity</th>\n",
       "      <th>source</th>\n",
       "      <th>waterpoint_type</th>\n",
       "      <th>time_passed</th>\n",
       "      <th>target</th>\n",
       "    </tr>\n",
       "  </thead>\n",
       "  <tbody>\n",
       "    <tr>\n",
       "      <th>8729</th>\n",
       "      <td>20198</td>\n",
       "      <td>0.0</td>\n",
       "      <td>86</td>\n",
       "      <td>DWE</td>\n",
       "      <td>Pangani</td>\n",
       "      <td>Tanga</td>\n",
       "      <td>Muheza</td>\n",
       "      <td>Ngomeni</td>\n",
       "      <td>120.0</td>\n",
       "      <td>1</td>\n",
       "      <td>1</td>\n",
       "      <td>india mark ii</td>\n",
       "      <td>vwc</td>\n",
       "      <td>never pay</td>\n",
       "      <td>salty abandoned</td>\n",
       "      <td>dry</td>\n",
       "      <td>shallow well</td>\n",
       "      <td>hand pump</td>\n",
       "      <td>-4</td>\n",
       "      <td>non functional</td>\n",
       "    </tr>\n",
       "    <tr>\n",
       "      <th>10441</th>\n",
       "      <td>55069</td>\n",
       "      <td>20.0</td>\n",
       "      <td>307</td>\n",
       "      <td>DDCA</td>\n",
       "      <td>Rufiji</td>\n",
       "      <td>Pwani</td>\n",
       "      <td>Kisarawe</td>\n",
       "      <td>Msanga</td>\n",
       "      <td>1.0</td>\n",
       "      <td>1</td>\n",
       "      <td>0</td>\n",
       "      <td>india mark iii</td>\n",
       "      <td>vwc</td>\n",
       "      <td>pay per bucket</td>\n",
       "      <td>soft</td>\n",
       "      <td>enough</td>\n",
       "      <td>spring</td>\n",
       "      <td>hand pump</td>\n",
       "      <td>-2</td>\n",
       "      <td>non functional</td>\n",
       "    </tr>\n",
       "    <tr>\n",
       "      <th>13366</th>\n",
       "      <td>48759</td>\n",
       "      <td>100.0</td>\n",
       "      <td>1331</td>\n",
       "      <td>Mgaya</td>\n",
       "      <td>Lake Victoria</td>\n",
       "      <td>Mara</td>\n",
       "      <td>Serengeti</td>\n",
       "      <td>Kenyamonta</td>\n",
       "      <td>80.0</td>\n",
       "      <td>0</td>\n",
       "      <td>1</td>\n",
       "      <td>other - rope pump</td>\n",
       "      <td>other</td>\n",
       "      <td>pay per bucket</td>\n",
       "      <td>soft</td>\n",
       "      <td>enough</td>\n",
       "      <td>shallow well</td>\n",
       "      <td>hand pump</td>\n",
       "      <td>-7</td>\n",
       "      <td>functional</td>\n",
       "    </tr>\n",
       "    <tr>\n",
       "      <th>23373</th>\n",
       "      <td>20534</td>\n",
       "      <td>50.0</td>\n",
       "      <td>239</td>\n",
       "      <td>TASAFcitizen and LGA</td>\n",
       "      <td>Ruvuma / Southern Coast</td>\n",
       "      <td>Mtwara</td>\n",
       "      <td>Newala</td>\n",
       "      <td>Luchingu</td>\n",
       "      <td>317.0</td>\n",
       "      <td>1</td>\n",
       "      <td>0</td>\n",
       "      <td>gravity</td>\n",
       "      <td>vwc</td>\n",
       "      <td>pay per bucket</td>\n",
       "      <td>soft</td>\n",
       "      <td>enough</td>\n",
       "      <td>spring</td>\n",
       "      <td>communal standpipe multiple</td>\n",
       "      <td>-5</td>\n",
       "      <td>functional</td>\n",
       "    </tr>\n",
       "    <tr>\n",
       "      <th>27501</th>\n",
       "      <td>53086</td>\n",
       "      <td>500.0</td>\n",
       "      <td>1611</td>\n",
       "      <td>Villagers</td>\n",
       "      <td>Rufiji</td>\n",
       "      <td>Iringa</td>\n",
       "      <td>Njombe</td>\n",
       "      <td>Makambako</td>\n",
       "      <td>65.0</td>\n",
       "      <td>1</td>\n",
       "      <td>0</td>\n",
       "      <td>nira/tanira</td>\n",
       "      <td>vwc</td>\n",
       "      <td>pay when scheme fails</td>\n",
       "      <td>soft</td>\n",
       "      <td>enough</td>\n",
       "      <td>hand dtw</td>\n",
       "      <td>hand pump</td>\n",
       "      <td>-5</td>\n",
       "      <td>functional</td>\n",
       "    </tr>\n",
       "    <tr>\n",
       "      <th>32619</th>\n",
       "      <td>9195</td>\n",
       "      <td>0.0</td>\n",
       "      <td>1856</td>\n",
       "      <td>Cultus</td>\n",
       "      <td>Lake Tanganyika</td>\n",
       "      <td>Rukwa</td>\n",
       "      <td>Sumbawanga Urban</td>\n",
       "      <td>Kasense</td>\n",
       "      <td>900.0</td>\n",
       "      <td>1</td>\n",
       "      <td>1</td>\n",
       "      <td>gravity</td>\n",
       "      <td>vwc</td>\n",
       "      <td>never pay</td>\n",
       "      <td>soft</td>\n",
       "      <td>dry</td>\n",
       "      <td>spring</td>\n",
       "      <td>communal standpipe</td>\n",
       "      <td>-1</td>\n",
       "      <td>non functional</td>\n",
       "    </tr>\n",
       "    <tr>\n",
       "      <th>33942</th>\n",
       "      <td>5971</td>\n",
       "      <td>0.0</td>\n",
       "      <td>-27</td>\n",
       "      <td>AMREF</td>\n",
       "      <td>Rufiji</td>\n",
       "      <td>Pwani</td>\n",
       "      <td>Mkuranga</td>\n",
       "      <td>Magawa</td>\n",
       "      <td>200.0</td>\n",
       "      <td>1</td>\n",
       "      <td>0</td>\n",
       "      <td>swn 80</td>\n",
       "      <td>vwc</td>\n",
       "      <td>never pay</td>\n",
       "      <td>soft</td>\n",
       "      <td>seasonal</td>\n",
       "      <td>shallow well</td>\n",
       "      <td>hand pump</td>\n",
       "      <td>-3</td>\n",
       "      <td>non functional</td>\n",
       "    </tr>\n",
       "    <tr>\n",
       "      <th>39559</th>\n",
       "      <td>15921</td>\n",
       "      <td>0.0</td>\n",
       "      <td>301</td>\n",
       "      <td>DWE</td>\n",
       "      <td>Pangani</td>\n",
       "      <td>Tanga</td>\n",
       "      <td>Korogwe</td>\n",
       "      <td>Kwagunda</td>\n",
       "      <td>713.0</td>\n",
       "      <td>1</td>\n",
       "      <td>0</td>\n",
       "      <td>other</td>\n",
       "      <td>vwc</td>\n",
       "      <td>never pay</td>\n",
       "      <td>soft</td>\n",
       "      <td>dry</td>\n",
       "      <td>shallow well</td>\n",
       "      <td>other</td>\n",
       "      <td>-5</td>\n",
       "      <td>non functional</td>\n",
       "    </tr>\n",
       "    <tr>\n",
       "      <th>48555</th>\n",
       "      <td>1251</td>\n",
       "      <td>0.0</td>\n",
       "      <td>284</td>\n",
       "      <td>Karugendo</td>\n",
       "      <td>Wami / Ruvu</td>\n",
       "      <td>Pwani</td>\n",
       "      <td>Kisarawe</td>\n",
       "      <td>Kibuta</td>\n",
       "      <td>185.0</td>\n",
       "      <td>1</td>\n",
       "      <td>0</td>\n",
       "      <td>gravity</td>\n",
       "      <td>private operator</td>\n",
       "      <td>never pay</td>\n",
       "      <td>soft</td>\n",
       "      <td>enough</td>\n",
       "      <td>rainwater harvesting</td>\n",
       "      <td>communal standpipe</td>\n",
       "      <td>-4</td>\n",
       "      <td>functional</td>\n",
       "    </tr>\n",
       "  </tbody>\n",
       "</table>\n",
       "</div>"
      ],
      "text/plain": [
       "          id  amount_tsh  gps_height             installer  \\\n",
       "8729   20198         0.0          86                   DWE   \n",
       "10441  55069        20.0         307                  DDCA   \n",
       "13366  48759       100.0        1331                 Mgaya   \n",
       "23373  20534        50.0         239  TASAFcitizen and LGA   \n",
       "27501  53086       500.0        1611             Villagers   \n",
       "32619   9195         0.0        1856                Cultus   \n",
       "33942   5971         0.0         -27                 AMREF   \n",
       "39559  15921         0.0         301                   DWE   \n",
       "48555   1251         0.0         284             Karugendo   \n",
       "\n",
       "                         basin  region               lga        ward  \\\n",
       "8729                   Pangani   Tanga            Muheza     Ngomeni   \n",
       "10441                   Rufiji   Pwani          Kisarawe      Msanga   \n",
       "13366            Lake Victoria    Mara         Serengeti  Kenyamonta   \n",
       "23373  Ruvuma / Southern Coast  Mtwara            Newala    Luchingu   \n",
       "27501                   Rufiji  Iringa            Njombe   Makambako   \n",
       "32619          Lake Tanganyika   Rukwa  Sumbawanga Urban     Kasense   \n",
       "33942                   Rufiji   Pwani          Mkuranga      Magawa   \n",
       "39559                  Pangani   Tanga           Korogwe    Kwagunda   \n",
       "48555              Wami / Ruvu   Pwani          Kisarawe      Kibuta   \n",
       "\n",
       "       population  public_meeting  permit    extraction_type  \\\n",
       "8729        120.0               1       1      india mark ii   \n",
       "10441         1.0               1       0     india mark iii   \n",
       "13366        80.0               0       1  other - rope pump   \n",
       "23373       317.0               1       0            gravity   \n",
       "27501        65.0               1       0        nira/tanira   \n",
       "32619       900.0               1       1            gravity   \n",
       "33942       200.0               1       0             swn 80   \n",
       "39559       713.0               1       0              other   \n",
       "48555       185.0               1       0            gravity   \n",
       "\n",
       "             management                payment    water_quality  quantity  \\\n",
       "8729                vwc              never pay  salty abandoned       dry   \n",
       "10441               vwc         pay per bucket             soft    enough   \n",
       "13366             other         pay per bucket             soft    enough   \n",
       "23373               vwc         pay per bucket             soft    enough   \n",
       "27501               vwc  pay when scheme fails             soft    enough   \n",
       "32619               vwc              never pay             soft       dry   \n",
       "33942               vwc              never pay             soft  seasonal   \n",
       "39559               vwc              never pay             soft       dry   \n",
       "48555  private operator              never pay             soft    enough   \n",
       "\n",
       "                     source              waterpoint_type  time_passed  \\\n",
       "8729           shallow well                    hand pump           -4   \n",
       "10441                spring                    hand pump           -2   \n",
       "13366          shallow well                    hand pump           -7   \n",
       "23373                spring  communal standpipe multiple           -5   \n",
       "27501              hand dtw                    hand pump           -5   \n",
       "32619                spring           communal standpipe           -1   \n",
       "33942          shallow well                    hand pump           -3   \n",
       "39559          shallow well                        other           -5   \n",
       "48555  rainwater harvesting           communal standpipe           -4   \n",
       "\n",
       "               target  \n",
       "8729   non functional  \n",
       "10441  non functional  \n",
       "13366      functional  \n",
       "23373      functional  \n",
       "27501      functional  \n",
       "32619  non functional  \n",
       "33942  non functional  \n",
       "39559  non functional  \n",
       "48555      functional  "
      ]
     },
     "execution_count": 82,
     "metadata": {},
     "output_type": "execute_result"
    }
   ],
   "source": [
    "df.loc[df.time_passed < 0]"
   ]
  },
  {
   "cell_type": "code",
   "execution_count": 5,
   "metadata": {},
   "outputs": [
    {
     "name": "stdout",
     "output_type": "stream",
     "text": [
      "<class 'pandas.core.frame.DataFrame'>\n",
      "RangeIndex: 59400 entries, 0 to 59399\n",
      "Data columns (total 20 columns):\n",
      " #   Column           Non-Null Count  Dtype  \n",
      "---  ------           --------------  -----  \n",
      " 0   id               59400 non-null  int64  \n",
      " 1   amount_tsh       59400 non-null  float64\n",
      " 2   gps_height       59400 non-null  int64  \n",
      " 3   installer        55745 non-null  object \n",
      " 4   basin            59400 non-null  object \n",
      " 5   region           59400 non-null  object \n",
      " 6   lga              59400 non-null  object \n",
      " 7   ward             59400 non-null  object \n",
      " 8   population       59400 non-null  float64\n",
      " 9   public_meeting   59400 non-null  int64  \n",
      " 10  permit           59400 non-null  int64  \n",
      " 11  extraction_type  59400 non-null  object \n",
      " 12  management       59400 non-null  object \n",
      " 13  payment          59400 non-null  object \n",
      " 14  water_quality    59400 non-null  object \n",
      " 15  quantity         59400 non-null  object \n",
      " 16  source           59400 non-null  object \n",
      " 17  waterpoint_type  59400 non-null  object \n",
      " 18  time_passed      59400 non-null  int64  \n",
      " 19  target           59400 non-null  object \n",
      "dtypes: float64(2), int64(5), object(13)\n",
      "memory usage: 9.1+ MB\n"
     ]
    }
   ],
   "source": [
    "df.info()"
   ]
  },
  {
   "cell_type": "code",
   "execution_count": 19,
   "metadata": {},
   "outputs": [
    {
     "data": {
      "image/png": "[encoded data removed]",
      "text/plain": [
       "<Figure size 432x288 with 1 Axes>"
      ]
     },
     "metadata": {
      "needs_background": "light"
     },
     "output_type": "display_data"
    }
   ],
   "source": [
    "# visualizing the target variable\n",
    "# some class imbalance, especially the functional needs repair category is under-represented\n",
    "df.target.value_counts().plot.barh();"
   ]
  },
  {
   "cell_type": "code",
   "execution_count": 28,
   "metadata": {},
   "outputs": [
    {
     "data": {
      "image/png": "[encoded data removed]",
      "text/plain": [
       "<Figure size 432x288 with 1 Axes>"
      ]
     },
     "metadata": {
      "needs_background": "light"
     },
     "output_type": "display_data"
    }
   ],
   "source": [
    "# Most water quality is 'soft'\n",
    "df.water_quality.value_counts().plot.barh();"
   ]
  },
  {
   "cell_type": "code",
   "execution_count": 27,
   "metadata": {},
   "outputs": [
    {
     "data": {
      "image/png": "[encoded data removed]",
      "text/plain": [
       "<Figure size 432x288 with 1 Axes>"
      ]
     },
     "metadata": {
      "needs_background": "light"
     },
     "output_type": "display_data"
    }
   ],
   "source": [
    "# One installer DWE accounts for about a third of observations\n",
    "df.installer.value_counts().head(20).plot.barh();"
   ]
  },
  {
   "cell_type": "code",
   "execution_count": 34,
   "metadata": {},
   "outputs": [
    {
     "data": {
      "image/png": "[encoded data removed]",
      "text/plain": [
       "<Figure size 432x288 with 1 Axes>"
      ]
     },
     "metadata": {
      "needs_background": "light"
     },
     "output_type": "display_data"
    }
   ],
   "source": [
    "# most extraction type(around half) are of type 'gravity', 'other' is a substantial column here\n",
    "df.extraction_type.value_counts().plot.barh();"
   ]
  },
  {
   "cell_type": "code",
   "execution_count": 35,
   "metadata": {},
   "outputs": [
    {
     "data": {
      "text/plain": [
       "gravity                      26780\n",
       "nira/tanira                  34934\n",
       "other                        41364\n",
       "submersible                  46128\n",
       "swn 80                       49798\n",
       "mono                         52663\n",
       "india mark ii                55063\n",
       "afridev                      56833\n",
       "ksb                          58248\n",
       "other - rope pump            58699\n",
       "other - swn 81               58928\n",
       "windmill                     59045\n",
       "india mark iii               59143\n",
       "cemo                         59233\n",
       "other - play pump            59318\n",
       "walimi                       59366\n",
       "climax                       59398\n",
       "other - mkulima/shinyanga    59400\n",
       "Name: extraction_type, dtype: int64"
      ]
     },
     "execution_count": 35,
     "metadata": {},
     "output_type": "execute_result"
    }
   ],
   "source": [
    "#closer look at extraction_type\n",
    "df.extraction_type.value_counts().cumsum()"
   ]
  },
  {
   "cell_type": "code",
   "execution_count": 36,
   "metadata": {},
   "outputs": [
    {
     "data": {
      "text/plain": [
       "Index(['id', 'amount_tsh', 'gps_height', 'installer', 'basin', 'region', 'lga',\n",
       "       'ward', 'population', 'public_meeting', 'permit', 'extraction_type',\n",
       "       'management', 'payment', 'water_quality', 'quantity', 'source',\n",
       "       'waterpoint_type', 'time_passed', 'target'],\n",
       "      dtype='object')"
      ]
     },
     "execution_count": 36,
     "metadata": {},
     "output_type": "execute_result"
    }
   ],
   "source": [
    "df.columns"
   ]
  },
  {
   "cell_type": "code",
   "execution_count": 43,
   "metadata": {},
   "outputs": [
    {
     "data": {
      "image/png": "[encoded data removed]",
      "text/plain": [
       "<Figure size 432x288 with 1 Axes>"
      ]
     },
     "metadata": {
      "needs_background": "light"
     },
     "output_type": "display_data"
    }
   ],
   "source": [
    "# altitude distributions -- many are around zero\n",
    "df.gps_height.hist(bins=12);"
   ]
  },
  {
   "cell_type": "code",
   "execution_count": 52,
   "metadata": {},
   "outputs": [
    {
     "data": {
      "text/plain": [
       "<matplotlib.axes._subplots.AxesSubplot at 0x11ed90710>"
      ]
     },
     "execution_count": 52,
     "metadata": {},
     "output_type": "execute_result"
    },
    {
     "data": {
      "image/png": "[encoded data removed]",
      "text/plain": [
       "<Figure size 432x288 with 1 Axes>"
      ]
     },
     "metadata": {
      "needs_background": "light"
     },
     "output_type": "display_data"
    }
   ],
   "source": [
    "# amount tsh (total static head -- amount water available to waterpoint)\n",
    "# couple huge outliers here\n",
    "df.amount_tsh.plot.box(vert=False)"
   ]
  },
  {
   "cell_type": "code",
   "execution_count": 56,
   "metadata": {},
   "outputs": [
    {
     "data": {
      "text/plain": [
       "<matplotlib.axes._subplots.AxesSubplot at 0x11f18d1d0>"
      ]
     },
     "execution_count": 56,
     "metadata": {},
     "output_type": "execute_result"
    },
    {
     "data": {
      "image/png": "[encoded data removed]",
      "text/plain": [
       "<Figure size 432x288 with 1 Axes>"
      ]
     },
     "metadata": {
      "needs_background": "light"
     },
     "output_type": "display_data"
    }
   ],
   "source": [
    "# Still big outliers, looks like most points are below 10k\n",
    "df.loc[df.amount_tsh < 100000, 'amount_tsh'].plot.box(vert=False)"
   ]
  },
  {
   "cell_type": "code",
   "execution_count": 57,
   "metadata": {},
   "outputs": [
    {
     "data": {
      "text/plain": [
       "<matplotlib.axes._subplots.AxesSubplot at 0x11f2f9890>"
      ]
     },
     "execution_count": 57,
     "metadata": {},
     "output_type": "execute_result"
    },
    {
     "data": {
      "image/png": "[encoded data removed]",
      "text/plain": [
       "<Figure size 432x288 with 1 Axes>"
      ]
     },
     "metadata": {
      "needs_background": "light"
     },
     "output_type": "display_data"
    }
   ],
   "source": [
    "df.loc[df.amount_tsh < 15000, 'amount_tsh'].plot.box(vert=False)"
   ]
  },
  {
   "cell_type": "code",
   "execution_count": 58,
   "metadata": {},
   "outputs": [
    {
     "data": {
      "text/plain": [
       "<matplotlib.axes._subplots.AxesSubplot at 0x11f73f4d0>"
      ]
     },
     "execution_count": 58,
     "metadata": {},
     "output_type": "execute_result"
    },
    {
     "data": {
      "image/png": "[encoded data removed]",
      "text/plain": [
       "<Figure size 432x288 with 1 Axes>"
      ]
     },
     "metadata": {
      "needs_background": "light"
     },
     "output_type": "display_data"
    }
   ],
   "source": [
    "df.loc[df.amount_tsh < 2000, 'amount_tsh'].plot.box(vert=False)"
   ]
  },
  {
   "cell_type": "code",
   "execution_count": 60,
   "metadata": {},
   "outputs": [
    {
     "data": {
      "text/plain": [
       "0.9979629629629629"
      ]
     },
     "execution_count": 60,
     "metadata": {},
     "output_type": "execute_result"
    }
   ],
   "source": [
    "# Almost all entries are less than 15k\n",
    "len(df.loc[df.amount_tsh < 15000, 'amount_tsh'])/len(df)"
   ]
  },
  {
   "cell_type": "code",
   "execution_count": 61,
   "metadata": {},
   "outputs": [
    {
     "data": {
      "text/plain": [
       "0.9845117845117846"
      ]
     },
     "execution_count": 61,
     "metadata": {},
     "output_type": "execute_result"
    }
   ],
   "source": [
    "# ditto 5k\n",
    "len(df.loc[df.amount_tsh < 5000, 'amount_tsh'])/len(df)"
   ]
  },
  {
   "cell_type": "code",
   "execution_count": 62,
   "metadata": {},
   "outputs": [
    {
     "data": {
      "text/plain": [
       "0.9576599326599327"
      ]
     },
     "execution_count": 62,
     "metadata": {},
     "output_type": "execute_result"
    }
   ],
   "source": [
    "# ...and 2k\n",
    "len(df.loc[df.amount_tsh < 2000, 'amount_tsh'])/len(df)"
   ]
  },
  {
   "cell_type": "code",
   "execution_count": 79,
   "metadata": {},
   "outputs": [
    {
     "data": {
      "text/plain": [
       "0.700993265993266"
      ]
     },
     "execution_count": 79,
     "metadata": {},
     "output_type": "execute_result"
    }
   ],
   "source": [
    "# 70 percent of values are zero. Max value is ~350000.. what's up with that? data issue or just \n",
    "# really small water values?\n",
    "len(df.loc[df.amount_tsh == 0, 'amount_tsh'])/len(df)"
   ]
  },
  {
   "cell_type": "code",
   "execution_count": null,
   "metadata": {},
   "outputs": [],
   "source": []
  }
 ],
 "metadata": {
  "kernelspec": {
   "display_name": "Python 3",
   "language": "python",
   "name": "python3"
  },
  "language_info": {
   "codemirror_mode": {
    "name": "ipython",
    "version": 3
   },
   "file_extension": ".py",
   "mimetype": "text/x-python",
   "name": "python",
   "nbconvert_exporter": "python",
   "pygments_lexer": "ipython3",
   "version": "3.7.6"
  }
 },
 "nbformat": 4,
 "nbformat_minor": 4
}
