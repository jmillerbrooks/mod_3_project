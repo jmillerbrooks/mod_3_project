{
 "cells": [
  {
   "cell_type": "code",
   "execution_count": 1,
   "metadata": {},
   "outputs": [
    {
     "ename": "NameError",
     "evalue": "name 'pd' is not defined",
     "output_type": "error",
     "traceback": [
      "\u001b[1;31m---------------------------------------------------------------------------\u001b[0m",
      "\u001b[1;31mNameError\u001b[0m                                 Traceback (most recent call last)",
      "\u001b[1;32m<ipython-input-1-d656ed45d47a>\u001b[0m in \u001b[0;36m<module>\u001b[1;34m\u001b[0m\n\u001b[0;32m     11\u001b[0m \u001b[1;32mimport\u001b[0m \u001b[0mpickle\u001b[0m\u001b[1;33m\u001b[0m\u001b[1;33m\u001b[0m\u001b[0m\n\u001b[0;32m     12\u001b[0m \u001b[1;33m\u001b[0m\u001b[0m\n\u001b[1;32m---> 13\u001b[1;33m \u001b[0mpd\u001b[0m\u001b[1;33m.\u001b[0m\u001b[0moptions\u001b[0m\u001b[1;33m.\u001b[0m\u001b[0mdisplay\u001b[0m\u001b[1;33m.\u001b[0m\u001b[0mmax_rows\u001b[0m \u001b[1;33m=\u001b[0m \u001b[1;36m35\u001b[0m\u001b[1;33m\u001b[0m\u001b[1;33m\u001b[0m\u001b[0m\n\u001b[0m\u001b[0;32m     14\u001b[0m \u001b[0mpd\u001b[0m\u001b[1;33m.\u001b[0m\u001b[0moptions\u001b[0m\u001b[1;33m.\u001b[0m\u001b[0mdisplay\u001b[0m\u001b[1;33m.\u001b[0m\u001b[0mmax_columns\u001b[0m \u001b[1;33m=\u001b[0m \u001b[1;32mNone\u001b[0m\u001b[1;33m\u001b[0m\u001b[1;33m\u001b[0m\u001b[0m\n",
      "\u001b[1;31mNameError\u001b[0m: name 'pd' is not defined"
     ]
    }
   ],
   "source": [
    "from sklearn.linear_model import LogisticRegression, SGDClassifier\n",
    "from sklearn.naive_bayes import GaussianNB, MultinomialNB\n",
    "from sklearn.svm import SVC \n",
    "from sklearn.neighbors import KNeighborsClassifier\n",
    "from sklearn.model_selection import RepeatedStratifiedKFold, cross_val_score, GridSearchCV\n",
    "from sklearn.metrics import classification_report\n",
    "import matplotlib.pyplot as plt\n",
    "from sklearn.tree import DecisionTreeClassifier\n",
    "from sklearn.ensemble import RandomForestClassifier, StackingClassifier\n",
    "from tqdm import tqdm\n",
    "import pickle\n",
    "\n",
    "pd.options.display.max_rows = 35 \n",
    "pd.options.display.max_columns = None"
   ]
  },
  {
   "cell_type": "code",
   "execution_count": null,
   "metadata": {},
   "outputs": [],
   "source": [
    "def get_pickles(): \n",
    "    x_train = pickle.load(open(f'../../WaterData/pickles/x_train.p', 'rb'))\n",
    "    x_test = pickle.load(open(f'../../WaterData/pickles/x_test.p', 'rb'))\n",
    "    y_train = pickle.load(open(f'../../WaterData/pickles/y_train.p', 'rb'))\n",
    "    y_test = pickle.load(open(f'../../WaterData/pickles/y_test.p', 'rb'))\n",
    "    X = pickle.load(open('../../WaterData/pickles/X.p', 'rb'))\n",
    "    y = pickle.load(open('../../WaterData/pickles/y.p', 'rb'))\n",
    "\n",
    "    return (x_train, x_test, y_train, y_test), (X,y)\n",
    "\n",
    "(x_train, x_test, y_train, y_test), (X,y) = get_pickles()\n",
    "\n",
    "\n",
    "print(f'Original X: {X.shape}\\tOriginal y: {y.shape}')\n",
    "print(f'Train X: {x_train.shape}\\Train y: {y_train.shape}')\n",
    "print(f'Test X: {x_test.shape}\\Test y: {y_test.shape}')"
   ]
  },
  {
   "cell_type": "code",
   "execution_count": 3,
   "metadata": {},
   "outputs": [],
   "source": [
    "y_train = y_train.target.values.ravel()\n",
    "y_test = y_test.target.values.ravel()\n",
    "y = y.target.values.ravel()"
   ]
  },
  {
   "cell_type": "markdown",
   "metadata": {},
   "source": [
    "### Baseline Testing for Models and Stacked"
   ]
  },
  {
   "cell_type": "code",
   "execution_count": 4,
   "metadata": {},
   "outputs": [
    {
     "name": "stderr",
     "output_type": "stream",
     "text": [
      "Evaluating STACKED: 100%|██████████████████████████████████████████████████████████████████████████████████████████████████████████████████████████████████| 6/6 [20:47<00:00, 207.92s/it]\n"
     ]
    }
   ],
   "source": [
    "\n",
    "models = {'log': LogisticRegression(), \n",
    "          'knn': KNeighborsClassifier(),\n",
    "          'dt': DecisionTreeClassifier(), 'Gaussian': GaussianNB(),\n",
    "          'rf': RandomForestClassifier(),\n",
    "            }\n",
    "#create stacked model\n",
    "stack_m = [] \n",
    "for model, m in models.items(): \n",
    "    stack_m.append((model, m))\n",
    "stack_model = StackingClassifier(estimators = stack_m, final_estimator = LogisticRegression(), cv = 5)\n",
    "models['stacked'] = stack_model\n",
    "\n",
    "#test each model and stacking\n",
    "results = []\n",
    "model_names = []\n",
    "pbar = tqdm(models.items())\n",
    "for model, m in pbar: \n",
    "    pbar.set_description(f'Evaluating {model.upper()}')\n",
    "    cv = RepeatedStratifiedKFold(n_splits = 10, n_repeats = 10, random_state = 10)\n",
    "    scores = cross_val_score(m, X, y, scoring = 'accuracy', cv = cv, n_jobs = 10, \n",
    "                             error_score = 'raise')\n",
    "    results.append(scores)\n",
    "    model_names.append(model)\n",
    "    "
   ]
  },
  {
   "cell_type": "code",
   "execution_count": 5,
   "metadata": {},
   "outputs": [
    {
     "name": "stdout",
     "output_type": "stream",
     "text": [
      "[array([0.73050362, 0.74313626, 0.73842008, 0.72679805, 0.72073438,\n",
      "       0.73993599, 0.73218797, 0.74060974, 0.73252484, 0.73247978,\n",
      "       0.7284824 , 0.73606198, 0.73235641, 0.73286171, 0.73336702,\n",
      "       0.73488294, 0.73303015, 0.74835776, 0.72460839, 0.7240566 ,\n",
      "       0.72528213, 0.73808321, 0.74077817, 0.72393465, 0.7313458 ,\n",
      "       0.73724103, 0.73724103, 0.71770254, 0.72679805, 0.73433288,\n",
      "       0.73505137, 0.72949301, 0.73336702, 0.72460839, 0.73538824,\n",
      "       0.73488294, 0.72629274, 0.73589355, 0.72966145, 0.7351752 ,\n",
      "       0.72056594, 0.74111504, 0.73201954, 0.74633653, 0.73033519,\n",
      "       0.72629274, 0.7289877 , 0.73067206, 0.73488294, 0.73955526,\n",
      "       0.72225029, 0.74027287, 0.73842008, 0.72662961, 0.73117736,\n",
      "       0.72342934, 0.73639885, 0.74701027, 0.73673573, 0.73113208,\n",
      "       0.725619  , 0.73084049, 0.73370389, 0.74919993, 0.72443995,\n",
      "       0.73842008, 0.73168267, 0.73370389, 0.73404076, 0.74123989,\n",
      "       0.73336702, 0.72932457, 0.72443995, 0.73151423, 0.72966145,\n",
      "       0.73959912, 0.7370726 , 0.73252484, 0.73235641, 0.73163747,\n",
      "       0.73724103, 0.73100893, 0.72881927, 0.73926225, 0.72881927,\n",
      "       0.73218797, 0.72376621, 0.73370389, 0.7198922 , 0.74022911,\n",
      "       0.73016675, 0.72578743, 0.73673573, 0.73842008, 0.72443995,\n",
      "       0.73858851, 0.73303015, 0.71669193, 0.73774634, 0.73770216]), array([0.71921846, 0.73926225, 0.73336702, 0.72022907, 0.71483914,\n",
      "       0.73555668, 0.72679805, 0.71905003, 0.72696648, 0.73483827,\n",
      "       0.72292404, 0.71568132, 0.73387233, 0.72393465, 0.7284824 ,\n",
      "       0.73774634, 0.72427152, 0.7193869 , 0.72191342, 0.7296159 ,\n",
      "       0.73774634, 0.71450227, 0.73050362, 0.72393465, 0.7227556 ,\n",
      "       0.7141654 , 0.72966145, 0.72764022, 0.72528213, 0.73079515,\n",
      "       0.73404076, 0.72747179, 0.72865083, 0.71854472, 0.73387233,\n",
      "       0.72595587, 0.72932457, 0.72966145, 0.72545056, 0.72675202,\n",
      "       0.73033519, 0.72494526, 0.72528213, 0.72999832, 0.72427152,\n",
      "       0.71972377, 0.71820785, 0.72764022, 0.73067206, 0.72826819,\n",
      "       0.72881927, 0.7342092 , 0.72797709, 0.72747179, 0.73387233,\n",
      "       0.72865083, 0.72881927, 0.725619  , 0.72679805, 0.71630728,\n",
      "       0.72258717, 0.73016675, 0.71871315, 0.74111504, 0.72359778,\n",
      "       0.72090281, 0.73353546, 0.73067206, 0.72477682, 0.72388814,\n",
      "       0.7375779 , 0.72107125, 0.73909382, 0.72410308, 0.72966145,\n",
      "       0.72780866, 0.7227556 , 0.72797709, 0.725619  , 0.7203504 ,\n",
      "       0.7284824 , 0.72427152, 0.71972377, 0.73033519, 0.72427152,\n",
      "       0.72966145, 0.72494526, 0.72949301, 0.73572511, 0.71613881,\n",
      "       0.74094661, 0.72342934, 0.7289877 , 0.72477682, 0.72443995,\n",
      "       0.73016675, 0.72629274, 0.72780866, 0.72646118, 0.71799191]), array([0.82583797, 0.83021728, 0.83813374, 0.8379653 , 0.81994273,\n",
      "       0.83560721, 0.83644939, 0.83324912, 0.83678626, 0.82008086,\n",
      "       0.83628095, 0.82634327, 0.83948122, 0.8288698 , 0.82718545,\n",
      "       0.83207007, 0.83240694, 0.82432205, 0.82415361, 0.83928571,\n",
      "       0.83341755, 0.823143  , 0.83055415, 0.82533266, 0.8226377 ,\n",
      "       0.83089102, 0.8345966 , 0.83038572, 0.8345966 , 0.83625337,\n",
      "       0.83089102, 0.83577564, 0.82516422, 0.82213239, 0.82802762,\n",
      "       0.8379653 , 0.82684858, 0.83324912, 0.82920667, 0.83406334,\n",
      "       0.82634327, 0.82971198, 0.81994273, 0.83442816, 0.82988041,\n",
      "       0.83105946, 0.82701701, 0.83122789, 0.83661782, 0.82530323,\n",
      "       0.82920667, 0.83611251, 0.82347987, 0.82179552, 0.82920667,\n",
      "       0.83274381, 0.83375442, 0.82954354, 0.83493347, 0.8236186 ,\n",
      "       0.8322385 , 0.83897591, 0.8260064 , 0.84588176, 0.83257537,\n",
      "       0.82617484, 0.82078491, 0.82550109, 0.82785919, 0.83591644,\n",
      "       0.84150244, 0.82280613, 0.83308068, 0.8322385 , 0.83038572,\n",
      "       0.8260064 , 0.83122789, 0.82903823, 0.82533266, 0.82395553,\n",
      "       0.83291225, 0.83122789, 0.82196395, 0.8322385 , 0.82381674,\n",
      "       0.83358599, 0.83055415, 0.82364831, 0.83409129, 0.82698787,\n",
      "       0.82668014, 0.82246926, 0.83392286, 0.83493347, 0.83190163,\n",
      "       0.83863904, 0.83341755, 0.82668014, 0.8351019 , 0.82631402]), array([0.72764022, 0.72309247, 0.71770254, 0.71315479, 0.70759643,\n",
      "       0.71753411, 0.72258717, 0.71719724, 0.71584976, 0.72018194,\n",
      "       0.72056594, 0.72545056, 0.71753411, 0.71686037, 0.71180731,\n",
      "       0.71955533, 0.71433384, 0.72713492, 0.72090281, 0.71209569,\n",
      "       0.71045983, 0.72494526, 0.72578743, 0.71753411, 0.71534445,\n",
      "       0.7193869 , 0.72359778, 0.70759643, 0.71770254, 0.72456199,\n",
      "       0.72073438, 0.72107125, 0.71601819, 0.70085902, 0.72039751,\n",
      "       0.71820785, 0.70961765, 0.72191342, 0.72764022, 0.73012129,\n",
      "       0.71568132, 0.72747179, 0.71214418, 0.72966145, 0.71888159,\n",
      "       0.71601819, 0.71483914, 0.71568132, 0.71568132, 0.72018194,\n",
      "       0.7141654 , 0.72528213, 0.71584976, 0.72326091, 0.71113357,\n",
      "       0.71298636, 0.71433384, 0.72359778, 0.72443995, 0.71748652,\n",
      "       0.7141654 , 0.71888159, 0.71517601, 0.73589355, 0.71214418,\n",
      "       0.72191342, 0.71803941, 0.72090281, 0.7141654 , 0.71445418,\n",
      "       0.72747179, 0.71163887, 0.71905003, 0.71921846, 0.71500758,\n",
      "       0.71972377, 0.72225029, 0.71770254, 0.71214418, 0.72506739,\n",
      "       0.71888159, 0.71163887, 0.71147044, 0.72410308, 0.70692269,\n",
      "       0.72410308, 0.72174499, 0.71921846, 0.72797709, 0.72355121,\n",
      "       0.71264949, 0.71955533, 0.72073438, 0.72359778, 0.71534445,\n",
      "       0.72123968, 0.71921846, 0.71096513, 0.72022907, 0.72473046]), array([0.84722924, 0.86104093, 0.86036719, 0.85901971, 0.84689237,\n",
      "       0.86036719, 0.85615631, 0.85598787, 0.85699848, 0.84770889,\n",
      "       0.85666161, 0.85042951, 0.86221998, 0.85480883, 0.85194543,\n",
      "       0.86036719, 0.8527876 , 0.85093482, 0.85362978, 0.85933288,\n",
      "       0.86188311, 0.85362978, 0.84925046, 0.84958733, 0.84840829,\n",
      "       0.85834597, 0.85935658, 0.85329291, 0.8585144 , 0.85663747,\n",
      "       0.85295604, 0.85683005, 0.85026107, 0.84706081, 0.85194543,\n",
      "       0.85901971, 0.85042951, 0.86003032, 0.85464039, 0.85933288,\n",
      "       0.84857672, 0.85110325, 0.85396665, 0.85901971, 0.85430352,\n",
      "       0.8580091 , 0.85379821, 0.85346134, 0.86087249, 0.85225741,\n",
      "       0.8499242 , 0.85901971, 0.85110325, 0.85177699, 0.85480883,\n",
      "       0.85716692, 0.85480883, 0.86323059, 0.85581944, 0.84821429,\n",
      "       0.85076638, 0.85598787, 0.8551457 , 0.86323059, 0.85767223,\n",
      "       0.85059795, 0.84706081, 0.85329291, 0.85211386, 0.85225741,\n",
      "       0.86104093, 0.85144012, 0.86323059, 0.8522823 , 0.85110325,\n",
      "       0.85464039, 0.85784066, 0.85245073, 0.85581944, 0.84855121,\n",
      "       0.85750379, 0.85632474, 0.84925046, 0.85615631, 0.84840829,\n",
      "       0.86053562, 0.85615631, 0.84958733, 0.85346134, 0.85478437,\n",
      "       0.85329291, 0.84857672, 0.85767223, 0.85598787, 0.85144012,\n",
      "       0.86053562, 0.85548257, 0.84605019, 0.85548257, 0.8490566 ]), array([0.85026107, 0.86188311, 0.86188311, 0.85918814, 0.84200775,\n",
      "       0.86255685, 0.85935658, 0.85918814, 0.85918814, 0.85057278,\n",
      "       0.85834597, 0.8527876 , 0.86120936, 0.85548257, 0.85497726,\n",
      "       0.86036719, 0.85480883, 0.85144012, 0.85615631, 0.86118598,\n",
      "       0.86508338, 0.85110325, 0.85480883, 0.85093482, 0.85127169,\n",
      "       0.85750379, 0.85733535, 0.85346134, 0.8585144 , 0.85613208,\n",
      "       0.85598787, 0.85868284, 0.85312447, 0.85076638, 0.84958733,\n",
      "       0.85683005, 0.85194543, 0.85952501, 0.85750379, 0.8620283 ,\n",
      "       0.85042951, 0.85784066, 0.85413509, 0.85716692, 0.85295604,\n",
      "       0.85834597, 0.85615631, 0.85447196, 0.86339902, 0.85545822,\n",
      "       0.84925046, 0.85918814, 0.85396665, 0.85295604, 0.85699848,\n",
      "       0.8580091 , 0.85784066, 0.86205154, 0.85716692, 0.84956199,\n",
      "       0.85127169, 0.85834597, 0.85379821, 0.86575712, 0.85699848,\n",
      "       0.8527876 , 0.84638706, 0.85581944, 0.85581944, 0.85495283,\n",
      "       0.86306215, 0.84975577, 0.86188311, 0.855651  , 0.85666161,\n",
      "       0.85464039, 0.86120936, 0.85261917, 0.855651  , 0.84838275,\n",
      "       0.85868284, 0.8580091 , 0.84958733, 0.85598787, 0.85177699,\n",
      "       0.86003032, 0.85834597, 0.85396665, 0.85666161, 0.85528976,\n",
      "       0.85817753, 0.85009264, 0.86019875, 0.85666161, 0.8527876 ,\n",
      "       0.86053562, 0.85733535, 0.84605019, 0.855651  , 0.84871968])]\n"
     ]
    }
   ],
   "source": [
    "print(results)"
   ]
  },
  {
   "cell_type": "code",
   "execution_count": 8,
   "metadata": {},
   "outputs": [
    {
     "data": {
      "image/png": "[encoded data removed]",
      "text/plain": [
       "<Figure size 432x288 with 1 Axes>"
      ]
     },
     "metadata": {
      "needs_background": "light"
     },
     "output_type": "display_data"
    }
   ],
   "source": [
    "plt.boxplot(results, labels = model_names, showmeans = True)\n",
    "plt.title('Accuracy for Each Vanilla Model')\n",
    "plt.ylabel('Accuracy'); plt.xlabel('Model')\n",
    "plt.savefig('figures/BaselineAccuracy.png')\n",
    "plt.show()"
   ]
  },
  {
   "cell_type": "code",
   "execution_count": 7,
   "metadata": {},
   "outputs": [
    {
     "ename": "AssertionError",
     "evalue": "",
     "output_type": "error",
     "traceback": [
      "\u001b[1;31m---------------------------------------------------------------------------\u001b[0m",
      "\u001b[1;31mAssertionError\u001b[0m                            Traceback (most recent call last)",
      "\u001b[1;32m<ipython-input-7-a871fdc9ebee>\u001b[0m in \u001b[0;36m<module>\u001b[1;34m\u001b[0m\n\u001b[1;32m----> 1\u001b[1;33m \u001b[1;32massert\u001b[0m \u001b[1;32mFalse\u001b[0m\u001b[1;33m\u001b[0m\u001b[1;33m\u001b[0m\u001b[0m\n\u001b[0m",
      "\u001b[1;31mAssertionError\u001b[0m: "
     ]
    }
   ],
   "source": [
    "assert False"
   ]
  },
  {
   "cell_type": "markdown",
   "metadata": {},
   "source": [
    "### Decision Tree and Random Forest Hyperparameter Tuning"
   ]
  },
  {
   "cell_type": "code",
   "execution_count": null,
   "metadata": {},
   "outputs": [
    {
     "name": "stdout",
     "output_type": "stream",
     "text": [
      "Fitting 5 folds for each of 384 candidates, totalling 1920 fits\n"
     ]
    },
    {
     "name": "stderr",
     "output_type": "stream",
     "text": [
      "[Parallel(n_jobs=-1)]: Using backend LokyBackend with 16 concurrent workers.\n",
      "[Parallel(n_jobs=-1)]: Done  18 tasks      | elapsed:   57.4s\n"
     ]
    }
   ],
   "source": [
    "# base_forest = RandomForestClassifier()\n",
    "# base_forest.fit(x_train, y_train) \n",
    "# base_forest_predict = base_forest.predict(x_test, random_state = 100)\n",
    "# base_cm = classification_report(y_test, base_forest_predict)\n",
    "# print(base_cm)\n",
    "# print(base_forest.estimators_)\n",
    "\n",
    "param_grid = {\n",
    "    'n_estimators': [50, 75, 100],\n",
    "    'criterion': ['gini', 'entropy'],\n",
    "    'max_depth': [None, 50, 100, 500],\n",
    "    'max_features': [None,'auto', 'sqrt', 'log2'],\n",
    "    'min_samples_leaf': [1,5], \n",
    "    'bootstrap': [True, False]\n",
    "}\n",
    "tuned_forest = RandomForestClassifier()\n",
    "gs = GridSearchCV(tuned_forest, param_grid, verbose = 1, n_jobs =-1)\n",
    "gs.fit(x_train, y_train) \n"
   ]
  },
  {
   "cell_type": "code",
   "execution_count": null,
   "metadata": {},
   "outputs": [],
   "source": []
  },
  {
   "cell_type": "code",
   "execution_count": null,
   "metadata": {},
   "outputs": [],
   "source": []
  }
 ],
 "metadata": {
  "kernelspec": {
   "display_name": "Python 3",
   "language": "python",
   "name": "python3"
  },
  "language_info": {
   "codemirror_mode": {
    "name": "ipython",
    "version": 3
   },
   "file_extension": ".py",
   "mimetype": "text/x-python",
   "name": "python",
   "nbconvert_exporter": "python",
   "pygments_lexer": "ipython3",
   "version": "3.7.6"
  }
 },
 "nbformat": 4,
 "nbformat_minor": 4
}
