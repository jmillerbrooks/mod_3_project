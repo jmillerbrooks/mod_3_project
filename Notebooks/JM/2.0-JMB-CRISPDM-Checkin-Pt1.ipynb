{
 "cells": [
  {
   "cell_type": "markdown",
   "metadata": {},
   "source": [
    "## Business Understanding\n",
    "- What is the business problem?\n",
    "    - Our goal is to predict the operating condition of a waterpoint for each record in the dataset\n",
    "- What questions will you be addressing?\n",
    "    - What impact do installer, distan\n",
    "- Have you clearly defined your goal for your analysis?\n",
    "    - Our goal is to predict the operating condition of a waterpoint for each record in the dataset\n",
    "- Have your thought about who your audience is and how they would use this information?\n",
    "    - The Tanzania Ministry of Water and other associated stakeholders, with vested interest in water access in Tanzania. Information would be used to maximize ROI and access to clean drinking water.\n",
    "- How does this help the goals of the business/organization?\n",
    "    - This helps to maximize ROI on water investments and minimize health risks posed by lost access to clean water.\n",
    "## Data Understanding\n",
    "- What data are you using?\n",
    "    - We are using all non-duplicated features of the Pump it Up with the exception of INSERT LIST OF NONUSED COLUMNS. \n",
    "- How does your data help you answer the business question?\n",
    "    - We are going to find out :)\n",
    "- How many observations does your dataset contain?\n",
    "    - 59,400\n",
    "- What is the distribution of your data?\n",
    "    - Target is not evenly distributed. We are approaching this as a binary classification initially, and will address as a ternary problem if time permits.\n",
    "- What data types do you have?\n",
    "    - 3 numerical and 14 categorical predictors, and target is categorical.\n",
    "    \n",
    "## Data Preparation\n",
    "- Have you looked/dealt with missing values?\n",
    "    - Yes, population was filled using median imputation by region. Year built was similarly imputed and replaced with a time passed variable.\n",
    "- Have you done any data-type conversion?\n",
    "    - ex: numerical data incorrectly ‘typed’ as strings.\n",
    "- Does your data contain any outliers or non-sensical values?\n",
    "    - Amount_tsh is primarily zero values with very few very large outliers. We are looking into this further. Population also has a couple large outliers."
   ]
  },
  {
   "cell_type": "code",
   "execution_count": null,
   "metadata": {},
   "outputs": [],
   "source": []
  }
 ],
 "metadata": {
  "kernelspec": {
   "display_name": "Python 3",
   "language": "python",
   "name": "python3"
  },
  "language_info": {
   "codemirror_mode": {
    "name": "ipython",
    "version": 3
   },
   "file_extension": ".py",
   "mimetype": "text/x-python",
   "name": "python",
   "nbconvert_exporter": "python",
   "pygments_lexer": "ipython3",
   "version": "3.7.6"
  }
 },
 "nbformat": 4,
 "nbformat_minor": 4
}
